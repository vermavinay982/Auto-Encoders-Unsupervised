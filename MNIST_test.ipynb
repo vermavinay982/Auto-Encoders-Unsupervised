{
 "cells": [
  {
   "cell_type": "code",
   "execution_count": 6,
   "id": "powerful-customer",
   "metadata": {},
   "outputs": [],
   "source": [
    "import tensorflow.keras as keras\n",
    "from tensorflow.keras.datasets import mnist\n",
    "from tensorflow.keras.models import Sequential\n",
    "from tensorflow.keras.layers import Dense, Activation, Flatten\n",
    "from tensorflow.keras.layers import Conv2D, MaxPooling2D\n",
    "from tensorflow.keras.preprocessing.image import ImageDataGenerator\n",
    "\n",
    "# due to tf 2.0 - keras api - we are using the tensorflow version of keras"
   ]
  },
  {
   "cell_type": "code",
   "execution_count": 7,
   "id": "corresponding-partnership",
   "metadata": {},
   "outputs": [],
   "source": [
    "(x_train, y_train), (x_test, y_test) = mnist.load_data()"
   ]
  },
  {
   "cell_type": "code",
   "execution_count": 9,
   "id": "raising-settle",
   "metadata": {},
   "outputs": [],
   "source": [
    "# keras enforces to work on 3d matrixes for input features\n",
    "# we would transform the train set and test set features to 3d matrix\n",
    "# input features are 28x28 - we will add a dummy dimension\n",
    "\n",
    "x_train = x_train.reshape(x_train.shape[0], 28, 28, 1)\n",
    "x_test = x_test.reshape(x_test.shape[0], 28, 28, 1)\n",
    "\n",
    "x_train = x_train.astype('float32')\n",
    "x_test = x_test.astype('float32')\n",
    "\n"
   ]
  },
  {
   "cell_type": "code",
   "execution_count": 17,
   "id": "assured-coupon",
   "metadata": {},
   "outputs": [],
   "source": [
    "# Min Max Normalization\n",
    "\n",
    "max_limit = x_train.max()\n",
    "min_limit = x_train.min()\n",
    "\n",
    "x_train = (x_train - min_limit)/ (max_limit - min_limit)\n",
    "x_test = (x_test - min_limit)/ (max_limit - min_limit)\n"
   ]
  },
  {
   "cell_type": "code",
   "execution_count": 24,
   "id": "structural-skill",
   "metadata": {},
   "outputs": [],
   "source": [
    "num_classes = 10\n",
    "y_train = keras.utils.to_categorical(y_train, num_classes)\n",
    "y_test = keras.utils.to_categorical(y_test, num_classes)"
   ]
  },
  {
   "cell_type": "code",
   "execution_count": 26,
   "id": "homeless-blind",
   "metadata": {},
   "outputs": [
    {
     "data": {
      "text/plain": [
       "array([[0., 0., 0., ..., 1., 0., 0.],\n",
       "       [0., 0., 1., ..., 0., 0., 0.],\n",
       "       [0., 1., 0., ..., 0., 0., 0.],\n",
       "       ...,\n",
       "       [0., 0., 0., ..., 0., 0., 0.],\n",
       "       [0., 0., 0., ..., 0., 0., 0.],\n",
       "       [0., 0., 0., ..., 0., 0., 0.]], dtype=float32)"
      ]
     },
     "execution_count": 26,
     "metadata": {},
     "output_type": "execute_result"
    }
   ],
   "source": [
    "y_test"
   ]
  },
  {
   "cell_type": "code",
   "execution_count": null,
   "id": "overall-citizenship",
   "metadata": {},
   "outputs": [],
   "source": []
  },
  {
   "cell_type": "code",
   "execution_count": 28,
   "id": "improved-center",
   "metadata": {},
   "outputs": [],
   "source": [
    "model = Sequential()\n",
    "\n",
    "#1st layer\n",
    "model.add(Conv2D(32, (3,3), activation='relu', input_shape=(28,28,1)))\n",
    "model.add(MaxPooling2D(pool_size=(2,2)))\n",
    "\n",
    "#2nd layer\n",
    "model.add(Conv2D(64, (3,3), activation='relu'))\n",
    "model.add(MaxPooling2D(pool_size=(2,2)))\n",
    "\n",
    "model.add(Flatten())\n",
    "\n",
    "#Fully connected layer, 1 hidden layer 512 nodes\n",
    "model.add(Dense(512,activation='relu'))\n",
    "\n",
    "# 10 outputs\n",
    "model.add(Dense(10, activation='softmax'))"
   ]
  },
  {
   "cell_type": "code",
   "execution_count": 29,
   "id": "civil-operations",
   "metadata": {},
   "outputs": [],
   "source": [
    "# The output of fully connected layer and cnn output is non linear fn\n",
    "# fnn should be softmax\n",
    "# output values are normalized bw 0 and 1\n",
    "# the maximum index would fire the result"
   ]
  },
  {
   "cell_type": "code",
   "execution_count": 30,
   "id": "elder-muslim",
   "metadata": {},
   "outputs": [],
   "source": [
    "# Standard dataset consists of 60K instances. \n",
    "# It is hard to handle all instances several \n",
    "# times on a personal computer. \n",
    "# That’s why, I prefer to use randomly selected \n",
    "# ones to train the network. \n",
    "# You might skip this step if you have \n",
    "# time or strong hardware, and want to work on all instances.\n",
    "\n",
    "\n",
    "gen = ImageDataGenerator()\n",
    "train_generator = gen.flow(x_train, y_train, batch_size=320)"
   ]
  },
  {
   "cell_type": "code",
   "execution_count": 42,
   "id": "revised-single",
   "metadata": {},
   "outputs": [
    {
     "data": {
      "text/plain": [
       "320"
      ]
     },
     "execution_count": 42,
     "metadata": {},
     "output_type": "execute_result"
    }
   ],
   "source": [
    "# train_generator - 188 batches - ( 320 images, 320 labels)\n",
    "len(train_generator)\n",
    "len(train_generator[0])\n",
    "len(train_generator[0][0])"
   ]
  },
  {
   "cell_type": "code",
   "execution_count": 44,
   "id": "structural-consciousness",
   "metadata": {},
   "outputs": [],
   "source": [
    "model.compile(\n",
    "    loss='categorical_crossentropy',\n",
    "    optimizer='adam', \n",
    "    metrics=['accuracy']\n",
    "            )"
   ]
  },
  {
   "cell_type": "code",
   "execution_count": 50,
   "id": "public-literature",
   "metadata": {},
   "outputs": [
    {
     "name": "stdout",
     "output_type": "stream",
     "text": [
      "Train on 60000 samples, validate on 10000 samples\n",
      "Epoch 1/10\n",
      "60000/60000 [==============================] - 10s 167us/sample - loss: 0.0114 - accuracy: 0.9962 - val_loss: 6.6363 - val_accuracy: 0.9903: 7s - loss: - E\n",
      "Epoch 2/10\n",
      "60000/60000 [==============================] - 9s 142us/sample - loss: 0.0066 - accuracy: 0.9977 - val_loss: 8.3862 - val_accuracy: 0.9889\n",
      "Epoch 3/10\n",
      "60000/60000 [==============================] - 8s 141us/sample - loss: 0.0052 - accuracy: 0.9982 - val_loss: 10.2656 - val_accuracy: 0.9874\n",
      "Epoch 4/10\n",
      "60000/60000 [==============================] - 8s 140us/sample - loss: 0.0058 - accuracy: 0.9981 - val_loss: 9.7181 - val_accuracy: 0.9895TA: 0s - loss: 0.0058 - accuracy: 0.99\n",
      "Epoch 5/10\n",
      "60000/60000 [==============================] - 8s 139us/sample - loss: 0.0038 - accuracy: 0.9988 - val_loss: 9.1473 - val_accuracy: 0.9885\n",
      "Epoch 6/10\n",
      "60000/60000 [==============================] - 8s 139us/sample - loss: 0.0048 - accuracy: 0.9983 - val_loss: 9.2719 - val_accuracy: 0.9902 - loss: 0.0043 - accuracy\n",
      "Epoch 7/10\n",
      "60000/60000 [==============================] - 8s 141us/sample - loss: 0.0032 - accuracy: 0.9990 - val_loss: 8.3413 - val_accuracy: 0.9913\n",
      "Epoch 8/10\n",
      "60000/60000 [==============================] - 8s 140us/sample - loss: 8.9527e-04 - accuracy: 0.9998 - val_loss: 9.7539 - val_accuracy: 0.9909\n",
      "Epoch 9/10\n",
      "60000/60000 [==============================] - 8s 140us/sample - loss: 0.0038 - accuracy: 0.9983 - val_loss: 9.6989 - val_accuracy: 0.9904\n",
      "Epoch 10/10\n",
      "60000/60000 [==============================] - 8s 139us/sample - loss: 0.0032 - accuracy: 0.9988 - val_loss: 12.3862 - val_accuracy: 0.9886\n"
     ]
    },
    {
     "data": {
      "text/plain": [
       "<tensorflow.python.keras.callbacks.History at 0x22bde193688>"
      ]
     },
     "execution_count": 50,
     "metadata": {},
     "output_type": "execute_result"
    }
   ],
   "source": [
    "# WITH GENERATOR\n",
    "# model.fit(train_generator, epochs=10, validation_data=(x_test, y_test))\n",
    "# The `batch_size` argument must not be specified for the given input type.\n",
    "\n",
    "# WITHOUT GENERATOR\n",
    "model.fit(x_train,y_train, batch_size=250, epochs=10, validation_data=(x_test, y_test))\n"
   ]
  },
  {
   "cell_type": "code",
   "execution_count": 52,
   "id": "sticky-natural",
   "metadata": {},
   "outputs": [],
   "source": [
    "# model.save('98mnist_10epc_320batch.h5')\n",
    "model.save('998mnist_10epc_250batch.h5')"
   ]
  },
  {
   "cell_type": "code",
   "execution_count": null,
   "id": "bronze-serum",
   "metadata": {},
   "outputs": [],
   "source": []
  }
 ],
 "metadata": {
  "kernelspec": {
   "display_name": "Python 3",
   "language": "python",
   "name": "python3"
  },
  "language_info": {
   "codemirror_mode": {
    "name": "ipython",
    "version": 3
   },
   "file_extension": ".py",
   "mimetype": "text/x-python",
   "name": "python",
   "nbconvert_exporter": "python",
   "pygments_lexer": "ipython3",
   "version": "3.7.9"
  }
 },
 "nbformat": 4,
 "nbformat_minor": 5
}
