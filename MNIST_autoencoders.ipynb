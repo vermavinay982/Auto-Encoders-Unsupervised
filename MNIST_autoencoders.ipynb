{
 "cells": [
  {
   "cell_type": "markdown",
   "id": "downtown-significance",
   "metadata": {},
   "source": [
    "# Autoencoders - adapt neural network into unsupervised learning\n",
    "\n",
    "Neural nets can be used for both classification and regression problems\n",
    "they can also contribute to unsupervised learning problems\n",
    "\n",
    "Classification\n",
    "Regression\n",
    "Unsupervised\n",
    "\n",
    "supervised - this is cat - this is dog - what this is?\n",
    "unsupervised - these are the total images - figure out the similarity in these\n",
    "\n",
    "\n",
    "Using neural networks for unsupervised learning\n",
    "\n",
    "![image](https://i0.wp.com/sefiks.com/wp-content/uploads/2018/03/autoencoder.jpeg)\n"
   ]
  },
  {
   "cell_type": "markdown",
   "id": "artistic-eclipse",
   "metadata": {},
   "source": [
    "## Autoencoding has 2 outputs\n",
    "Autoencoder Neural Network\n",
    "their design make them special \n",
    "\n",
    "- they have same nodes for both input and output\n",
    "- Hidden layers must be symmetric about the center\n",
    "- The number of nodes in hidden layer decrease from left to center\n",
    "- increase from center to right\n",
    "\n",
    "### Also\n",
    "- Input features are reduced and restored respectively\n",
    "- input can be compressed as the value of centroid layer's\n",
    "- if input is same as output\n",
    "- compression operation is not lossless\n",
    "    \n",
    "    auto encoder - reduction\n",
    "    \n",
    "    auto decoder - enlargement\n",
    "    \n",
    "    \n",
    "Discard the labels"
   ]
  },
  {
   "cell_type": "code",
   "execution_count": 1,
   "id": "dutch-paste",
   "metadata": {},
   "outputs": [],
   "source": [
    "import tensorflow as tf\n",
    "physical_devices = tf.config.list_physical_devices('GPU') \n",
    "tf.config.experimental.set_memory_growth(physical_devices[0], True)\n",
    "# to allow it to run on GPU with less VRAM\n",
    "\n",
    "from tensorflow.keras.datasets import mnist\n",
    "import numpy as np\n",
    "\n",
    "from tensorflow.keras import backend as K\n",
    "import matplotlib.pyplot as plt"
   ]
  },
  {
   "cell_type": "code",
   "execution_count": 3,
   "id": "theoretical-jonathan",
   "metadata": {},
   "outputs": [],
   "source": [
    "(x_train, y_train), (x_test, y_test) = mnist.load_data()\n",
    "# we will forget about the y part or the lables of images \n",
    "# with labels it is - supervised\n",
    "# without labels it is - unsupervised - \n",
    "# we dont know what is round known as (p.s. zero)\n",
    "\n",
    "x_train = x_train.astype('float32')/255.0\n",
    "x_test = x_test.astype('float32')/255.0\n",
    "\n",
    "# the 2d image as input is not required\n",
    "# x_train = x_train.reshape(x_train.shape[0], 28, 28, 1)\n",
    "# x_test  = x_test.reshape(x_test.shape[0], 28, 28, 1)\n",
    "\n",
    "# input of auto encoder is 784 - so single dimensional matrix as input\n",
    "x_train = x_train.reshape(x_train.shape[0], np.prod(x_train.shape[1:]))\n",
    "x_test  = x_test.reshape(x_test.shape[0], np.prod(x_test.shape[1:]))"
   ]
  },
  {
   "cell_type": "code",
   "execution_count": 4,
   "id": "facial-papua",
   "metadata": {},
   "outputs": [
    {
     "data": {
      "text/plain": [
       "784"
      ]
     },
     "execution_count": 4,
     "metadata": {},
     "output_type": "execute_result"
    }
   ],
   "source": [
    "np.prod(x_train.shape[1:])"
   ]
  },
  {
   "cell_type": "code",
   "execution_count": 5,
   "id": "exposed-angola",
   "metadata": {},
   "outputs": [],
   "source": [
    "from tensorflow.keras.models import Sequential\n",
    "from tensorflow.keras.layers import Dense, Activation, Flatten"
   ]
  },
  {
   "cell_type": "code",
   "execution_count": 6,
   "id": "appreciated-salvation",
   "metadata": {},
   "outputs": [],
   "source": [
    "# Creating the AutoEncoder Model - input and output same\n",
    "model = Sequential()\n",
    "model.add(Dense(128, activation='relu', input_shape=(784,)))\n",
    "model.add(Dense( 32, activation='relu')) # symmetric centroid\n",
    "model.add(Dense(128, activation='relu'))\n",
    "model.add(Dense(784, activation='sigmoid'))"
   ]
  },
  {
   "cell_type": "code",
   "execution_count": 7,
   "id": "forward-night",
   "metadata": {},
   "outputs": [
    {
     "name": "stdout",
     "output_type": "stream",
     "text": [
      "Train on 60000 samples, validate on 10000 samples\n",
      "Epoch 1/3\n",
      "60000/60000 [==============================] - 4s 63us/sample - loss: 0.1372 - accuracy: 0.8070 - val_loss: 0.1037 - val_accuracy: 0.8118\n",
      "Epoch 2/3\n",
      "60000/60000 [==============================] - 3s 52us/sample - loss: 0.1006 - accuracy: 0.8132 - val_loss: 0.0960 - val_accuracy: 0.8127\n",
      "Epoch 3/3\n",
      "60000/60000 [==============================] - 3s 52us/sample - loss: 0.0958 - accuracy: 0.8137 - val_loss: 0.0930 - val_accuracy: 0.8129\n"
     ]
    },
    {
     "data": {
      "text/plain": [
       "<tensorflow.python.keras.callbacks.History at 0x19f730c1208>"
      ]
     },
     "execution_count": 7,
     "metadata": {},
     "output_type": "execute_result"
    }
   ],
   "source": [
    "# training the model - but why binary crossentropy? okay due to 2 color class either black or white 784 pixels\n",
    "# and so not categorical\n",
    "model.compile(loss='binary_crossentropy', optimizer='adam', metrics=['accuracy'])\n",
    "model.fit(x_train, x_train, epochs=3, validation_data=(x_test,x_test))"
   ]
  },
  {
   "cell_type": "code",
   "execution_count": 9,
   "id": "uniform-rotation",
   "metadata": {},
   "outputs": [],
   "source": [
    "# just for future\n",
    "model.save('mnist_autoencoder.h5')"
   ]
  },
  {
   "cell_type": "code",
   "execution_count": 11,
   "id": "powerful-experiment",
   "metadata": {},
   "outputs": [],
   "source": [
    "def test_restoration(model):\n",
    "    \"\"\"\n",
    "    the model with encoder and decoder combined is given as input\n",
    "    to encode - need starting layers till centroid\n",
    "    to decode - from centroid till end\n",
    "    \"\"\"\n",
    "    #  TODO: Implement this with plt.figure and subplots\n",
    "    #  TODO: Understand the K.function part of keras\n",
    "    \n",
    "    # output of the model - encoder and decoder both - on test set (global)\n",
    "    decoded_imgs = model.predict(x_test) \n",
    "    \n",
    "    # finding the central value of model - basically encoder (layer0 and layer1)\n",
    "    # why only 0 and 1 - infact inp of 0 and op of 1 - but not op of 0 and ip of 1 ? why    \n",
    "    get_3rd_layer_output = K.function([model.layers[0].input], [model.layers[1].output])\n",
    "    \n",
    "    # getting output on 2 images\n",
    "    for i in range(2):\n",
    "        print('orignal')\n",
    "        plt.imshow(x_test[i].reshape(28,28))\n",
    "        plt.show()\n",
    "        \n",
    "        print('reconstructed')\n",
    "        plt.imshow(decoded_imgs[i].reshape(28,28))\n",
    "        plt.show()\n",
    "        \n",
    "        print('compressed')\n",
    "        current_compressed = get_3rd_layer_output([x_test[i:i+1]])[0][0]\n",
    "        plt.imshow(current_compressed.reshape(8,4))\n",
    "        plt.show()"
   ]
  },
  {
   "cell_type": "code",
   "execution_count": 13,
   "id": "professional-cameroon",
   "metadata": {},
   "outputs": [
    {
     "name": "stdout",
     "output_type": "stream",
     "text": [
      "Model: \"sequential\"\n",
      "_________________________________________________________________\n",
      "Layer (type)                 Output Shape              Param #   \n",
      "=================================================================\n",
      "dense (Dense)                (None, 128)               100480    \n",
      "_________________________________________________________________\n",
      "dense_1 (Dense)              (None, 32)                4128      \n",
      "_________________________________________________________________\n",
      "dense_2 (Dense)              (None, 128)               4224      \n",
      "_________________________________________________________________\n",
      "dense_3 (Dense)              (None, 784)               101136    \n",
      "=================================================================\n",
      "Total params: 209,968\n",
      "Trainable params: 209,968\n",
      "Non-trainable params: 0\n",
      "_________________________________________________________________\n"
     ]
    }
   ],
   "source": [
    "# model.layers[0].output\n",
    "model.summary()"
   ]
  },
  {
   "cell_type": "code",
   "execution_count": 16,
   "id": "wicked-bouquet",
   "metadata": {},
   "outputs": [
    {
     "ename": "AttributeError",
     "evalue": "'EagerExecutionFunction' object has no attribute 'summary'",
     "output_type": "error",
     "traceback": [
      "\u001b[1;31m---------------------------------------------------------------------------\u001b[0m",
      "\u001b[1;31mAttributeError\u001b[0m                            Traceback (most recent call last)",
      "\u001b[1;32m<ipython-input-16-9cf6c50f9c63>\u001b[0m in \u001b[0;36m<module>\u001b[1;34m\u001b[0m\n\u001b[0;32m      1\u001b[0m \u001b[0mget_3rd_layer_output\u001b[0m \u001b[1;33m=\u001b[0m \u001b[0mK\u001b[0m\u001b[1;33m.\u001b[0m\u001b[0mfunction\u001b[0m\u001b[1;33m(\u001b[0m\u001b[1;33m[\u001b[0m\u001b[0mmodel\u001b[0m\u001b[1;33m.\u001b[0m\u001b[0mlayers\u001b[0m\u001b[1;33m[\u001b[0m\u001b[1;36m0\u001b[0m\u001b[1;33m]\u001b[0m\u001b[1;33m.\u001b[0m\u001b[0minput\u001b[0m\u001b[1;33m]\u001b[0m\u001b[1;33m,\u001b[0m \u001b[1;33m[\u001b[0m\u001b[0mmodel\u001b[0m\u001b[1;33m.\u001b[0m\u001b[0mlayers\u001b[0m\u001b[1;33m[\u001b[0m\u001b[1;36m1\u001b[0m\u001b[1;33m]\u001b[0m\u001b[1;33m.\u001b[0m\u001b[0moutput\u001b[0m\u001b[1;33m]\u001b[0m\u001b[1;33m)\u001b[0m\u001b[1;33m\u001b[0m\u001b[1;33m\u001b[0m\u001b[0m\n\u001b[1;32m----> 2\u001b[1;33m \u001b[0mget_3rd_layer_output\u001b[0m\u001b[1;33m.\u001b[0m\u001b[0msummary\u001b[0m\u001b[1;33m(\u001b[0m\u001b[1;33m)\u001b[0m \u001b[1;31m# 'EagerExecutionFunction' object has no attribute 'summary'\u001b[0m\u001b[1;33m\u001b[0m\u001b[1;33m\u001b[0m\u001b[0m\n\u001b[0m",
      "\u001b[1;31mAttributeError\u001b[0m: 'EagerExecutionFunction' object has no attribute 'summary'"
     ]
    }
   ],
   "source": [
    "get_3rd_layer_output = K.function([model.layers[0].input], [model.layers[1].output])\n",
    "get_3rd_layer_output.summary() # 'EagerExecutionFunction' object has no attribute 'summary'"
   ]
  },
  {
   "cell_type": "code",
   "execution_count": 16,
   "id": "digital-backup",
   "metadata": {},
   "outputs": [
    {
     "name": "stdout",
     "output_type": "stream",
     "text": [
      "orignal\n"
     ]
    },
    {
     "data": {
      "image/png": "[encoded data removed]",
      "text/plain": [
       "<Figure size 432x288 with 1 Axes>"
      ]
     },
     "metadata": {
      "needs_background": "light"
     },
     "output_type": "display_data"
    },
    {
     "name": "stdout",
     "output_type": "stream",
     "text": [
      "reconstructed\n"
     ]
    },
    {
     "data": {
      "image/png": "[encoded data removed]",
      "text/plain": [
       "<Figure size 432x288 with 1 Axes>"
      ]
     },
     "metadata": {
      "needs_background": "light"
     },
     "output_type": "display_data"
    },
    {
     "name": "stdout",
     "output_type": "stream",
     "text": [
      "compressed\n"
     ]
    },
    {
     "data": {
      "image/png": "[encoded data removed]",
      "text/plain": [
       "<Figure size 432x288 with 1 Axes>"
      ]
     },
     "metadata": {
      "needs_background": "light"
     },
     "output_type": "display_data"
    },
    {
     "name": "stdout",
     "output_type": "stream",
     "text": [
      "orignal\n"
     ]
    },
    {
     "data": {
      "image/png": "[encoded data removed]",
      "text/plain": [
       "<Figure size 432x288 with 1 Axes>"
      ]
     },
     "metadata": {
      "needs_background": "light"
     },
     "output_type": "display_data"
    },
    {
     "name": "stdout",
     "output_type": "stream",
     "text": [
      "reconstructed\n"
     ]
    },
    {
     "data": {
      "image/png": "[encoded data removed]",
      "text/plain": [
       "<Figure size 432x288 with 1 Axes>"
      ]
     },
     "metadata": {
      "needs_background": "light"
     },
     "output_type": "display_data"
    },
    {
     "name": "stdout",
     "output_type": "stream",
     "text": [
      "compressed\n"
     ]
    },
    {
     "data": {
      "image/png": "[encoded data removed]",
      "text/plain": [
       "<Figure size 432x288 with 1 Axes>"
      ]
     },
     "metadata": {
      "needs_background": "light"
     },
     "output_type": "display_data"
    }
   ],
   "source": [
    "test_restoration(model)"
   ]
  },
  {
   "cell_type": "code",
   "execution_count": 19,
   "id": "marked-rover",
   "metadata": {},
   "outputs": [],
   "source": [
    "# the restored ones are blurred, but are clearly readable\n",
    "# compressed representation is still meaningful\n",
    "\n",
    "# we dont need to show all the representations,\n",
    "# we can directly save the compressed versions\n",
    "\n",
    "def autoencode(model):\n",
    "    decoded_imgs = model.predict(x_test)\n",
    "    get_3rd_layer_output = K.function([model.layers[0].input],[model.layers[1].output])\n",
    "    compressed = get_3rd_layer_output([x_test])\n",
    "    return compressed\n",
    "\n",
    "com = autoencode(model)"
   ]
  },
  {
   "cell_type": "code",
   "execution_count": 28,
   "id": "statewide-denial",
   "metadata": {},
   "outputs": [
    {
     "data": {
      "text/plain": [
       "10000"
      ]
     },
     "execution_count": 28,
     "metadata": {},
     "output_type": "execute_result"
    }
   ],
   "source": [
    "len(com[0][0]) # 32 pixels in one image\n",
    "len(com[0]) # 1000"
   ]
  },
  {
   "cell_type": "markdown",
   "id": "clean-luther",
   "metadata": {},
   "source": [
    "## Results\n",
    "The input image was of 784 whereas compressed rep is of 32\n",
    "\n",
    "it is 24 times smaller than the original image\n",
    "\n",
    "Herein, complex input features enforces traditiona unsupervised learning algo\n",
    "k-means and knn\n",
    "\n",
    "if all features are included, it will confuse the algo\n",
    "idea is you should apply the auto-encoder, reduce input features and extract meaningful data first. \n",
    "\n",
    "Then apply unsupervised learning to compressed representation. so clustering algorithm works high performance and provide meaningful results\n",
    "\n",
    "### why autoencoder and decoder are not differently trained ?\n",
    "the input is the image and the output is the image\n",
    "so the middle layer of the network depends upon the whole layer\n",
    "and during training it is modified or updated!! \n",
    "\n",
    "if we would use both alone, then we will just get some random compressed output that is just not the good one as we dont have the final result to check the loss function on that.\n",
    "\n",
    "in the other codes we use - trained models on imagenet and remove the last layers of that network to generate the input.\n",
    "so the hidden layers are already trained and optimized with the label of that class\n",
    "so no need to train the model again\n",
    "but here again we are defining the model from scratch so have to train \n",
    "and for training we optimize the loss function and moreover we need the input and specific output for the model as that is SUPERVISED - once we are sure the model is learning perfectly - we just use that for predictions and compressing the images"
   ]
  },
  {
   "cell_type": "code",
   "execution_count": 69,
   "id": "legendary-jurisdiction",
   "metadata": {
    "collapsed": true
   },
   "outputs": [
    {
     "name": "stdout",
     "output_type": "stream",
     "text": [
      "INFO:tensorflow:Using default config.\n",
      "WARNING:tensorflow:Using temporary folder as model directory: C:\\Users\\Vinay\\AppData\\Local\\Temp\\tmpni2sg9lw\n",
      "INFO:tensorflow:Using config: {'_model_dir': 'C:\\\\Users\\\\Vinay\\\\AppData\\\\Local\\\\Temp\\\\tmpni2sg9lw', '_tf_random_seed': None, '_save_summary_steps': 100, '_save_checkpoints_steps': None, '_save_checkpoints_secs': 600, '_session_config': allow_soft_placement: true\n",
      "graph_options {\n",
      "  rewrite_options {\n",
      "    meta_optimizer_iterations: ONE\n",
      "  }\n",
      "}\n",
      ", '_keep_checkpoint_max': 5, '_keep_checkpoint_every_n_hours': 10000, '_log_step_count_steps': 100, '_train_distribute': None, '_device_fn': None, '_protocol': None, '_eval_distribute': None, '_experimental_distribute': None, '_experimental_max_worker_delay_secs': None, '_session_creation_timeout_secs': 7200, '_service': None, '_cluster_spec': ClusterSpec({}), '_task_type': 'worker', '_task_id': 0, '_global_id_in_cluster': 0, '_master': '', '_evaluation_master': '', '_is_chief': True, '_num_ps_replicas': 0, '_num_worker_replicas': 1}\n",
      "INFO:tensorflow:Calling model_fn.\n",
      "INFO:tensorflow:Done calling model_fn.\n",
      "INFO:tensorflow:Create CheckpointSaverHook.\n",
      "INFO:tensorflow:Graph was finalized.\n",
      "INFO:tensorflow:Running local_init_op.\n",
      "INFO:tensorflow:Done running local_init_op.\n",
      "INFO:tensorflow:Saving checkpoints for 0 into C:\\Users\\Vinay\\AppData\\Local\\Temp\\tmpni2sg9lw\\model.ckpt.\n",
      "INFO:tensorflow:loss = 3703257.5, step = 1\n",
      "INFO:tensorflow:global_step/sec: 440.349\n",
      "INFO:tensorflow:loss = 2222381.0, step = 101 (0.227 sec)\n",
      "INFO:tensorflow:global_step/sec: 760.361\n",
      "INFO:tensorflow:loss = 2222381.0, step = 201 (0.132 sec)\n",
      "INFO:tensorflow:global_step/sec: 863.733\n",
      "INFO:tensorflow:loss = 2222381.0, step = 301 (0.116 sec)\n",
      "INFO:tensorflow:global_step/sec: 783.831\n",
      "INFO:tensorflow:loss = 2222381.0, step = 401 (0.128 sec)\n",
      "INFO:tensorflow:Saving checkpoints for 500 into C:\\Users\\Vinay\\AppData\\Local\\Temp\\tmpni2sg9lw\\model.ckpt.\n",
      "INFO:tensorflow:Loss for final step: 2222381.0.\n"
     ]
    },
    {
     "data": {
      "text/plain": [
       "<tensorflow_estimator.python.estimator.canned.kmeans.KMeansClustering at 0x180cfa77908>"
      ]
     },
     "execution_count": 69,
     "metadata": {},
     "output_type": "execute_result"
    }
   ],
   "source": [
    "# from tensorflow.compat.v1.estimator.experimental.ops import clustering_ops\n",
    "\n",
    "unsupervised_model = tf.compat.v1.estimator.experimental.KMeans(\n",
    "    10, use_mini_batch=False\n",
    "#     distance_metric = clustering_ops.SQUARED_EUCLIDEAN_DISTANCE,\n",
    "#     initial_clusters = tf.contrib.learn.KMeansClustering.RANDOM_INIT\n",
    "    )\n",
    "\n",
    "def train_input_fn():\n",
    "    data = tf.constant(com[0], tf.float32)\n",
    "    return (data, None)\n",
    "\n",
    "unsupervised_model.train(input_fn=train_input_fn, steps=500)\n"
   ]
  },
  {
   "cell_type": "code",
   "execution_count": 145,
   "id": "olympic-listing",
   "metadata": {},
   "outputs": [
    {
     "name": "stdout",
     "output_type": "stream",
     "text": [
      "following samples are clustered in same cluster:\n",
      "WARNING:tensorflow:Input graph does not use tf.data.Dataset or contain a QueueRunner. That means predict yields forever. This is probably a mistake.\n",
      "INFO:tensorflow:Calling model_fn.\n",
      "INFO:tensorflow:Done calling model_fn.\n",
      "INFO:tensorflow:Graph was finalized.\n",
      "INFO:tensorflow:Restoring parameters from C:\\Users\\Vinay\\AppData\\Local\\Temp\\tmpni2sg9lw\\model.ckpt-500\n",
      "INFO:tensorflow:Running local_init_op.\n",
      "INFO:tensorflow:Done running local_init_op.\n",
      "1 2 "
     ]
    },
    {
     "data": {
      "image/png": "[encoded data removed]",
      "text/plain": [
       "<Figure size 432x288 with 1 Axes>"
      ]
     },
     "metadata": {
      "needs_background": "light"
     },
     "output_type": "display_data"
    },
    {
     "name": "stdout",
     "output_type": "stream",
     "text": [
      "3 4 5 "
     ]
    },
    {
     "data": {
      "image/png": "[encoded data removed]",
      "text/plain": [
       "<Figure size 432x288 with 1 Axes>"
      ]
     },
     "metadata": {
      "needs_background": "light"
     },
     "output_type": "display_data"
    },
    {
     "name": "stdout",
     "output_type": "stream",
     "text": [
      "6 7 8 9 10 11 12 13 14 "
     ]
    },
    {
     "data": {
      "image/png": "[encoded data removed]",
      "text/plain": [
       "<Figure size 432x288 with 1 Axes>"
      ]
     },
     "metadata": {
      "needs_background": "light"
     },
     "output_type": "display_data"
    },
    {
     "name": "stdout",
     "output_type": "stream",
     "text": [
      "15 16 17 18 19 20 21 22 23 24 25 26 27 28 29 "
     ]
    },
    {
     "data": {
      "image/png": "[encoded data removed]",
      "text/plain": [
       "<Figure size 432x288 with 1 Axes>"
      ]
     },
     "metadata": {
      "needs_background": "light"
     },
     "output_type": "display_data"
    },
    {
     "name": "stdout",
     "output_type": "stream",
     "text": [
      "30 31 "
     ]
    },
    {
     "data": {
      "image/png": "[encoded data removed]",
      "text/plain": [
       "<Figure size 432x288 with 1 Axes>"
      ]
     },
     "metadata": {
      "needs_background": "light"
     },
     "output_type": "display_data"
    },
    {
     "name": "stdout",
     "output_type": "stream",
     "text": [
      "32 33 34 35 36 37 "
     ]
    },
    {
     "data": {
      "image/png": "[encoded data removed]",
      "text/plain": [
       "<Figure size 432x288 with 1 Axes>"
      ]
     },
     "metadata": {
      "needs_background": "light"
     },
     "output_type": "display_data"
    },
    {
     "name": "stdout",
     "output_type": "stream",
     "text": [
      "38 39 "
     ]
    },
    {
     "data": {
      "image/png": "[encoded data removed]",
      "text/plain": [
       "<Figure size 432x288 with 1 Axes>"
      ]
     },
     "metadata": {
      "needs_background": "light"
     },
     "output_type": "display_data"
    },
    {
     "name": "stdout",
     "output_type": "stream",
     "text": [
      "40 "
     ]
    },
    {
     "data": {
      "image/png": "[encoded data removed]",
      "text/plain": [
       "<Figure size 432x288 with 1 Axes>"
      ]
     },
     "metadata": {
      "needs_background": "light"
     },
     "output_type": "display_data"
    },
    {
     "name": "stdout",
     "output_type": "stream",
     "text": [
      "41 42 43 44 45 46 47 48 49 50 51 52 53 54 55 56 57 "
     ]
    },
    {
     "data": {
      "image/png": "[encoded data removed]",
      "text/plain": [
       "<Figure size 432x288 with 1 Axes>"
      ]
     },
     "metadata": {
      "needs_background": "light"
     },
     "output_type": "display_data"
    },
    {
     "name": "stdout",
     "output_type": "stream",
     "text": [
      "58 59 60 61 62 63 64 65 66 67 68 69 70 71 72 73 74 "
     ]
    },
    {
     "data": {
      "image/png": "[encoded data removed]",
      "text/plain": [
       "<Figure size 432x288 with 1 Axes>"
      ]
     },
     "metadata": {
      "needs_background": "light"
     },
     "output_type": "display_data"
    },
    {
     "name": "stdout",
     "output_type": "stream",
     "text": [
      "75 76 77 78 79 80 81 82 83 84 85 86 87 88 89 "
     ]
    },
    {
     "data": {
      "image/png": "[encoded data removed]",
      "text/plain": [
       "<Figure size 432x288 with 1 Axes>"
      ]
     },
     "metadata": {
      "needs_background": "light"
     },
     "output_type": "display_data"
    },
    {
     "name": "stdout",
     "output_type": "stream",
     "text": [
      "90 91 92 93 94 "
     ]
    },
    {
     "data": {
      "image/png": "[encoded data removed]",
      "text/plain": [
       "<Figure size 432x288 with 1 Axes>"
      ]
     },
     "metadata": {
      "needs_background": "light"
     },
     "output_type": "display_data"
    },
    {
     "name": "stdout",
     "output_type": "stream",
     "text": [
      "95 96 "
     ]
    },
    {
     "data": {
      "image/png": "[encoded data removed]",
      "text/plain": [
       "<Figure size 432x288 with 1 Axes>"
      ]
     },
     "metadata": {
      "needs_background": "light"
     },
     "output_type": "display_data"
    },
    {
     "name": "stdout",
     "output_type": "stream",
     "text": [
      "97 98 99 100 101 102 103 104 105 106 107 108 109 110 111 "
     ]
    },
    {
     "data": {
      "image/png": "[encoded data removed]",
      "text/plain": [
       "<Figure size 432x288 with 1 Axes>"
      ]
     },
     "metadata": {
      "needs_background": "light"
     },
     "output_type": "display_data"
    },
    {
     "name": "stdout",
     "output_type": "stream",
     "text": [
      "112 113 114 115 116 117 118 119 120 121 122 123 124 125 126 127 128 129 130 131 132 133 134 135 "
     ]
    },
    {
     "data": {
      "image/png": "[encoded data removed]",
      "text/plain": [
       "<Figure size 432x288 with 1 Axes>"
      ]
     },
     "metadata": {
      "needs_background": "light"
     },
     "output_type": "display_data"
    },
    {
     "name": "stdout",
     "output_type": "stream",
     "text": [
      "136 137 138 139 140 141 142 143 "
     ]
    },
    {
     "data": {
      "image/png": "[encoded data removed]",
      "text/plain": [
       "<Figure size 432x288 with 1 Axes>"
      ]
     },
     "metadata": {
      "needs_background": "light"
     },
     "output_type": "display_data"
    },
    {
     "name": "stdout",
     "output_type": "stream",
     "text": [
      "144 145 "
     ]
    },
    {
     "data": {
      "image/png": "[encoded data removed]",
      "text/plain": [
       "<Figure size 432x288 with 1 Axes>"
      ]
     },
     "metadata": {
      "needs_background": "light"
     },
     "output_type": "display_data"
    },
    {
     "name": "stdout",
     "output_type": "stream",
     "text": [
      "146 147 148 149 150 151 152 153 154 "
     ]
    },
    {
     "data": {
      "image/png": "[encoded data removed]",
      "text/plain": [
       "<Figure size 432x288 with 1 Axes>"
      ]
     },
     "metadata": {
      "needs_background": "light"
     },
     "output_type": "display_data"
    },
    {
     "name": "stdout",
     "output_type": "stream",
     "text": [
      "155 156 157 158 159 160 161 162 163 164 165 166 167 168 "
     ]
    },
    {
     "data": {
      "image/png": "[encoded data removed]",
      "text/plain": [
       "<Figure size 432x288 with 1 Axes>"
      ]
     },
     "metadata": {
      "needs_background": "light"
     },
     "output_type": "display_data"
    },
    {
     "name": "stdout",
     "output_type": "stream",
     "text": [
      "169 170 171 172 173 174 175 176 "
     ]
    },
    {
     "data": {
      "image/png": "[encoded data removed]",
      "text/plain": [
       "<Figure size 432x288 with 1 Axes>"
      ]
     },
     "metadata": {
      "needs_background": "light"
     },
     "output_type": "display_data"
    },
    {
     "name": "stdout",
     "output_type": "stream",
     "text": [
      "177 178 "
     ]
    },
    {
     "data": {
      "image/png": "[encoded data removed]",
      "text/plain": [
       "<Figure size 432x288 with 1 Axes>"
      ]
     },
     "metadata": {
      "needs_background": "light"
     },
     "output_type": "display_data"
    },
    {
     "name": "stdout",
     "output_type": "stream",
     "text": [
      "179 180 "
     ]
    },
    {
     "data": {
      "image/png": "[encoded data removed]",
      "text/plain": [
       "<Figure size 432x288 with 1 Axes>"
      ]
     },
     "metadata": {
      "needs_background": "light"
     },
     "output_type": "display_data"
    },
    {
     "name": "stdout",
     "output_type": "stream",
     "text": [
      "181 182 183 184 185 186 187 188 189 "
     ]
    },
    {
     "data": {
      "image/png": "[encoded data removed]",
      "text/plain": [
       "<Figure size 432x288 with 1 Axes>"
      ]
     },
     "metadata": {
      "needs_background": "light"
     },
     "output_type": "display_data"
    },
    {
     "name": "stdout",
     "output_type": "stream",
     "text": [
      "190 191 "
     ]
    },
    {
     "data": {
      "image/png": "[encoded data removed]",
      "text/plain": [
       "<Figure size 432x288 with 1 Axes>"
      ]
     },
     "metadata": {
      "needs_background": "light"
     },
     "output_type": "display_data"
    },
    {
     "name": "stdout",
     "output_type": "stream",
     "text": [
      "192 193 194 195 196 "
     ]
    },
    {
     "data": {
      "image/png": "[encoded data removed]",
      "text/plain": [
       "<Figure size 432x288 with 1 Axes>"
      ]
     },
     "metadata": {
      "needs_background": "light"
     },
     "output_type": "display_data"
    },
    {
     "name": "stdout",
     "output_type": "stream",
     "text": [
      "197 198 199 200 201 202 203 204 205 206 207 208 209 210 211 212 213 214 215 216 217 218 219 220 221 222 223 224 225 226 227 228 229 230 231 232 233 234 235 236 237 238 239 240 241 242 243 244 245 246 247 248 249 250 251 252 253 254 255 256 257 258 259 260 261 262 263 264 265 266 267 268 269 270 271 272 273 274 275 276 277 278 279 280 281 282 283 284 285 286 287 288 289 290 291 292 293 294 295 296 297 298 299 300 301 302 303 304 305 306 307 308 309 310 311 312 313 314 315 316 317 318 319 320 321 322 323 324 325 326 327 328 329 330 331 332 333 334 335 336 337 338 339 340 341 342 343 344 345 346 347 348 349 350 351 352 353 354 355 356 357 358 359 360 361 362 363 364 365 366 367 368 369 370 371 372 373 374 375 376 377 378 379 380 381 382 383 384 385 386 387 388 389 390 391 392 393 394 395 396 397 398 399 400 401 402 403 404 405 406 407 408 409 410 411 412 413 414 415 416 417 418 419 420 421 422 423 424 425 426 427 428 429 430 431 432 433 434 435 436 437 438 439 440 441 442 443 444 445 446 447 448 449 450 451 452 453 454 455 456 457 458 459 460 461 462 463 464 465 466 467 468 469 470 471 472 473 474 475 476 477 478 479 480 481 482 483 484 485 486 487 488 489 490 491 492 493 494 495 496 497 498 499 500 501 502 503 504 505 506 507 508 509 510 511 512 513 514 515 516 517 518 519 520 521 522 523 524 525 526 527 528 529 530 531 532 533 534 535 536 537 538 539 540 541 542 543 544 545 546 547 548 549 550 551 552 553 554 555 556 557 558 559 560 561 562 563 564 565 566 567 568 569 570 571 572 573 574 575 576 577 578 579 580 581 582 583 584 585 586 587 588 589 590 591 592 593 594 595 596 597 598 599 600 601 602 603 604 605 606 607 608 609 610 611 612 613 614 615 616 617 618 619 620 621 622 623 624 625 626 627 628 629 630 631 632 633 634 635 636 637 638 639 640 641 642 643 644 645 646 647 648 649 650 651 652 653 654 655 656 657 658 659 660 661 662 663 664 665 666 667 668 669 670 671 672 673 674 675 676 677 678 679 680 681 682 683 684 685 686 687 688 689 690 691 692 693 694 695 696 697 698 699 700 701 702 703 704 705 706 707 708 709 710 711 712 713 714 715 716 717 718 719 720 721 722 723 724 725 726 727 728 729 730 731 732 733 734 735 736 737 738 739 740 741 742 743 744 745 746 747 748 749 750 751 752 753 754 755 756 757 758 759 760 761 762 763 764 765 766 767 768 769 770 771 772 773 774 775 776 777 778 779 780 781 782 783 784 785 786 787 788 789 790 791 792 793 794 795 796 797 798 799 800 801 802 803 804 805 806 807 808 809 810 811 812 813 814 815 816 817 818 819 820 821 822 823 824 825 826 827 828 829 830 831 832 833 834 835 836 837 838 839 840 841 842 843 844 845 846 847 848 849 850 851 852 853 854 855 856 857 858 859 860 861 862 863 864 865 866 867 868 869 870 871 872 873 874 875 876 877 878 879 880 881 882 883 884 885 886 887 888 889 890 891 892 893 894 895 896 897 898 899 900 901 902 903 904 905 906 907 908 909 910 911 912 913 914 915 916 917 918 919 920 921 922 923 924 925 926 927 928 929 930 931 932 933 934 935 936 937 938 939 940 941 942 943 944 945 946 947 948 949 950 951 952 953 954 955 956 957 958 959 960 961 962 963 964 965 966 967 968 969 970 971 972 973 974 975 976 977 978 979 980 981 982 983 984 985 986 987 988 989 990 991 992 993 994 995 996 997 998 999 1000 "
     ]
    }
   ],
   "source": [
    "clusters = unsupervised_model.predict(input_fn=train_input_fn)\n",
    "\n",
    "print(\"following samples are clustered in same cluster:\")\n",
    "\n",
    "# clusters.__next__() - can use this to get another sample - iterator\n",
    "# predict function is having QueueRunner - that will generate data forever \n",
    "# - thats why value of i was not stopping anywhere\n",
    "\n",
    "# WARNING:tensorflow:Input graph does not use tf.data.Dataset or contain a QueueRunner.\n",
    "# That means predict yields forever. This is probably a mistake.\n",
    "index = 0\n",
    "for i in clusters:\n",
    "    current_cluster = i['cluster_index']\n",
    "    features = x_test[index]\n",
    "    \n",
    "    if index < 200 and current_cluster == 4:\n",
    "        plt.imshow(x_test[index].reshape(28, 28))\n",
    "        plt.gray()\n",
    "        plt.show()\n",
    "       \n",
    "    index = index + 1\n",
    "    print(index,end=' ')\n",
    "    if index == 1000:\n",
    "        break"
   ]
  },
  {
   "cell_type": "code",
   "execution_count": 139,
   "id": "pharmaceutical-bride",
   "metadata": {},
   "outputs": [
    {
     "data": {
      "text/plain": [
       "{'all_distances': array([ 461.76758,  597.79614,  971.57825,  497.37427, 1019.6262 ,\n",
       "         679.93604,  669.47046,  666.8386 ,  138.09644,  417.47473],\n",
       "       dtype=float32),\n",
       " 'cluster_index': 8}"
      ]
     },
     "execution_count": 139,
     "metadata": {},
     "output_type": "execute_result"
    }
   ],
   "source": [
    "clusters.__next__()"
   ]
  },
  {
   "cell_type": "markdown",
   "id": "exterior-thompson",
   "metadata": {},
   "source": [
    "# Clustering\n",
    "clustering is unsupervised learning method \n",
    "that is just used to cluster the datapoints given to it in a pool of many data points\n",
    "\n",
    "we asked the model to create 10 clusters\n",
    "the output was infinite - but that is fine too we stopped using break\n",
    "\n",
    "op contains 2 parts - all_distances and cluster_index\n",
    "\n",
    "distance is the distance of particular object in the whole pool of given n numbers of cluster \n",
    "say 10 clusters for mnist dataset\n",
    "whosoever the distance is less - that point belong to that cluster\n",
    "\n",
    "cluster index is the prediction where the item must go\n",
    "\n",
    "in the example above - cluster_index is 8 - and in the distances we can see - 8 is having 138 distance from that point\n",
    "clearly that is the nearest cluster\n",
    "\n",
    "comparison bw knn and clustering will be the topic for next disucssion\n"
   ]
  },
  {
   "cell_type": "code",
   "execution_count": 50,
   "id": "quantitative-remedy",
   "metadata": {},
   "outputs": [
    {
     "data": {
      "text/plain": [
       "10000"
      ]
     },
     "execution_count": 50,
     "metadata": {},
     "output_type": "execute_result"
    }
   ],
   "source": [
    "len(com[0])"
   ]
  }
 ],
 "metadata": {
  "kernelspec": {
   "display_name": "Python 3",
   "language": "python",
   "name": "python3"
  },
  "language_info": {
   "codemirror_mode": {
    "name": "ipython",
    "version": 3
   },
   "file_extension": ".py",
   "mimetype": "text/x-python",
   "name": "python",
   "nbconvert_exporter": "python",
   "pygments_lexer": "ipython3",
   "version": "3.7.9"
  }
 },
 "nbformat": 4,
 "nbformat_minor": 5
}
