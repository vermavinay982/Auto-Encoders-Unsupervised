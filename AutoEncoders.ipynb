{
 "cells": [
  {
   "cell_type": "markdown",
   "id": "tender-lewis",
   "metadata": {},
   "source": [
    "# Autoencoders - adapt neural network into unsupervised learning\n",
    "\n",
    "Neural nets can be used for both classification and regression problems\n",
    "they can also contribute to unsupervised learning problems\n",
    "\n",
    "Classification\n",
    "Regression\n",
    "Unsupervised\n",
    "\n",
    "supervised - this is cat - this is dog - what this is?\n",
    "unsupervised - these are the total images - figure out the similarity in these\n",
    "\n",
    "\n",
    "Using neural networks for unsupervised learning\n",
    "\n",
    "![image](https://i0.wp.com/sefiks.com/wp-content/uploads/2018/03/autoencoder.jpeg)\n"
   ]
  },
  {
   "cell_type": "markdown",
   "id": "strategic-intro",
   "metadata": {},
   "source": [
    "## Autoencoding has 2 outputs\n",
    "Autoencoder Neural Network\n",
    "their design make them special \n",
    "\n",
    "- they have same nodes for both input and output\n",
    "- Hidden layers must be symmetric about the center\n",
    "- The number of nodes in hidden layer decrease from left to center\n",
    "- increase from center to right\n",
    "\n",
    "### Also\n",
    "- Input features are reduced and restored respectively\n",
    "- input can be compressed as the value of centroid layer's\n",
    "- if input is same as output\n",
    "- compression operation is not lossless\n",
    "    \n",
    "    auto encoder - reduction\n",
    "    \n",
    "    auto decoder - enlargement\n",
    "    \n",
    "    \n",
    "Discard the labels"
   ]
  },
  {
   "cell_type": "code",
   "execution_count": 15,
   "id": "documented-source",
   "metadata": {},
   "outputs": [],
   "source": [
    "import tensorflow as tf\n",
    "physical_devices = tf.config.list_physical_devices('GPU') \n",
    "tf.config.experimental.set_memory_growth(physical_devices[0], True)\n",
    "\n",
    "from tensorflow.keras.datasets import mnist\n",
    "import numpy as np\n",
    "\n",
    "from tensorflow.keras import backend as K\n",
    "import matplotlib.pyplot as plt"
   ]
  },
  {
   "cell_type": "code",
   "execution_count": 12,
   "id": "liquid-notion",
   "metadata": {},
   "outputs": [],
   "source": [
    "(x_train, y_train), (x_test, y_test) = mnist.load_data()\n",
    "# we will forget about the y part or the lables of images \n",
    "# with labels it is - supervised\n",
    "# without labels it is - unsupervised - \n",
    "# we dont know what is round known as (p.s. zero)\n",
    "\n",
    "x_train = x_train.astype('float32')/255.0\n",
    "x_test = x_test.astype('float32')/255.0\n",
    "\n",
    "# x_train = x_train.reshape(x_train.shape[0], 28, 28, 1)\n",
    "# x_test  = x_test.reshape(x_test.shape[0], 28, 28, 1)\n",
    "\n",
    "x_train = x_train.reshape(x_train.shape[0], np.prod(x_train.shape[1:]))\n",
    "x_test  = x_test.reshape(x_test.shape[0], np.prod(x_test.shape[1:]))\n",
    "\n"
   ]
  },
  {
   "cell_type": "code",
   "execution_count": 2,
   "id": "electoral-namibia",
   "metadata": {},
   "outputs": [],
   "source": [
    "(x_train, y_train), (x_test, y_test) = mnist.load_data()\n",
    "x_train = x_train.astype('float32') / 255.0\n",
    "x_test = x_test.astype('float32') / 255.0\n",
    "x_train = x_train.reshape((len(x_train), np.prod(x_train.shape[1:])))\n",
    "x_test = x_test.reshape((len(x_test), np.prod(x_test.shape[1:])))\n",
    "\n",
    "instances, input_features = x_train.shape"
   ]
  },
  {
   "cell_type": "code",
   "execution_count": 3,
   "id": "convertible-catch",
   "metadata": {},
   "outputs": [],
   "source": [
    "from tensorflow.keras.models import Sequential\n",
    "from tensorflow.keras.layers import Dense, Activation, Flatten"
   ]
  },
  {
   "cell_type": "code",
   "execution_count": 4,
   "id": "addressed-ordinary",
   "metadata": {},
   "outputs": [],
   "source": [
    "model = Sequential()\n",
    "model.add(Dense(128, activation='relu', input_shape=(784,)))\n",
    "model.add(Dense( 32, activation='relu')) # symmetric centroid\n",
    "model.add(Dense(128, activation='relu'))\n",
    "model.add(Dense(784, activation='sigmoid'))\n"
   ]
  },
  {
   "cell_type": "code",
   "execution_count": 8,
   "id": "roman-singles",
   "metadata": {},
   "outputs": [
    {
     "name": "stdout",
     "output_type": "stream",
     "text": [
      "Train on 60000 samples, validate on 10000 samples\n",
      "Epoch 1/3\n",
      "60000/60000 [==============================] - 5s 91us/sample - loss: 0.0916 - accuracy: 0.8141 - val_loss: 0.0891 - val_accuracy: 0.8132\n",
      "Epoch 2/3\n",
      "60000/60000 [==============================] - 5s 80us/sample - loss: 0.0893 - accuracy: 0.8143 - val_loss: 0.0876 - val_accuracy: 0.8133\n",
      "Epoch 3/3\n",
      "60000/60000 [==============================] - 5s 82us/sample - loss: 0.0879 - accuracy: 0.8144 - val_loss: 0.0866 - val_accuracy: 0.8135\n"
     ]
    },
    {
     "data": {
      "text/plain": [
       "<tensorflow.python.keras.callbacks.History at 0x180be215b48>"
      ]
     },
     "execution_count": 8,
     "metadata": {},
     "output_type": "execute_result"
    }
   ],
   "source": [
    "model.compile(loss='binary_crossentropy', optimizer='adam', metrics=['accuracy'])\n",
    "model.fit(x_train, x_train, epochs=3, validation_data=(x_test,x_test))"
   ]
  },
  {
   "cell_type": "code",
   "execution_count": 9,
   "id": "challenging-madness",
   "metadata": {},
   "outputs": [],
   "source": [
    "model.save('mnist_autoencoder.h5')"
   ]
  },
  {
   "cell_type": "code",
   "execution_count": 11,
   "id": "missing-bronze",
   "metadata": {},
   "outputs": [],
   "source": [
    "def test_restoration(model):\n",
    "    decoded_imgs = model.predict(x_test)\n",
    "    get_3rd_layer_output = K.function([model.layers[0].input], [model.layers[1].output])\n",
    "    \n",
    "    for i in range(2):\n",
    "        print('orignal')\n",
    "        plt.imshow(x_test[i].reshape(28,28))\n",
    "        plt.show()\n",
    "        \n",
    "        print('reconstructed')\n",
    "        plt.imshow(decoded_imgs[i].reshape(28,28))\n",
    "        plt.show()\n",
    "        \n",
    "        print('compressed')\n",
    "        current_compressed = get_3rd_layer_output([x_test[i:i+1]])[0][0]\n",
    "        plt.imshow(current_compressed.reshape(8,4))\n",
    "        plt.show()"
   ]
  },
  {
   "cell_type": "code",
   "execution_count": 16,
   "id": "south-kuwait",
   "metadata": {},
   "outputs": [
    {
     "name": "stdout",
     "output_type": "stream",
     "text": [
      "orignal\n"
     ]
    },
    {
     "data": {
      "image/png": "[encoded data removed]",
      "text/plain": [
       "<Figure size 432x288 with 1 Axes>"
      ]
     },
     "metadata": {
      "needs_background": "light"
     },
     "output_type": "display_data"
    },
    {
     "name": "stdout",
     "output_type": "stream",
     "text": [
      "reconstructed\n"
     ]
    },
    {
     "data": {
      "image/png": "[encoded data removed]",
      "text/plain": [
       "<Figure size 432x288 with 1 Axes>"
      ]
     },
     "metadata": {
      "needs_background": "light"
     },
     "output_type": "display_data"
    },
    {
     "name": "stdout",
     "output_type": "stream",
     "text": [
      "compressed\n"
     ]
    },
    {
     "data": {
      "image/png": "[encoded data removed]",
      "text/plain": [
       "<Figure size 432x288 with 1 Axes>"
      ]
     },
     "metadata": {
      "needs_background": "light"
     },
     "output_type": "display_data"
    },
    {
     "name": "stdout",
     "output_type": "stream",
     "text": [
      "orignal\n"
     ]
    },
    {
     "data": {
      "image/png": "[encoded data removed]",
      "text/plain": [
       "<Figure size 432x288 with 1 Axes>"
      ]
     },
     "metadata": {
      "needs_background": "light"
     },
     "output_type": "display_data"
    },
    {
     "name": "stdout",
     "output_type": "stream",
     "text": [
      "reconstructed\n"
     ]
    },
    {
     "data": {
      "image/png": "[encoded data removed]",
      "text/plain": [
       "<Figure size 432x288 with 1 Axes>"
      ]
     },
     "metadata": {
      "needs_background": "light"
     },
     "output_type": "display_data"
    },
    {
     "name": "stdout",
     "output_type": "stream",
     "text": [
      "compressed\n"
     ]
    },
    {
     "data": {
      "image/png": "[encoded data removed]",
      "text/plain": [
       "<Figure size 432x288 with 1 Axes>"
      ]
     },
     "metadata": {
      "needs_background": "light"
     },
     "output_type": "display_data"
    }
   ],
   "source": [
    "test_restoration(model)"
   ]
  },
  {
   "cell_type": "code",
   "execution_count": 19,
   "id": "aging-robin",
   "metadata": {},
   "outputs": [],
   "source": [
    "# the restored ones are blurred, but are clearly readable\n",
    "# compressed representation is still meaningful\n",
    "\n",
    "# we dont need to show all the representations,\n",
    "# we can directly save the compressed versions\n",
    "\n",
    "def autoencode(model):\n",
    "    decoded_imgs = model.predict(x_test)\n",
    "    get_3rd_layer_output = K.function([model.layers[0].input],[model.layers[1].output])\n",
    "    compressed = get_3rd_layer_output([x_test])\n",
    "    return compressed\n",
    "\n",
    "com = autoencode(model)"
   ]
  },
  {
   "cell_type": "code",
   "execution_count": 18,
   "id": "sporting-rates",
   "metadata": {},
   "outputs": [
    {
     "name": "stdout",
     "output_type": "stream",
     "text": [
      "Model: \"sequential\"\n",
      "_________________________________________________________________\n",
      "Layer (type)                 Output Shape              Param #   \n",
      "=================================================================\n",
      "dense (Dense)                (None, 128)               100480    \n",
      "_________________________________________________________________\n",
      "dense_1 (Dense)              (None, 32)                4128      \n",
      "_________________________________________________________________\n",
      "dense_2 (Dense)              (None, 128)               4224      \n",
      "_________________________________________________________________\n",
      "dense_3 (Dense)              (None, 784)               101136    \n",
      "=================================================================\n",
      "Total params: 209,968\n",
      "Trainable params: 209,968\n",
      "Non-trainable params: 0\n",
      "_________________________________________________________________\n"
     ]
    }
   ],
   "source": [
    "model.summary()"
   ]
  },
  {
   "cell_type": "code",
   "execution_count": 28,
   "id": "neural-nickname",
   "metadata": {},
   "outputs": [
    {
     "data": {
      "text/plain": [
       "10000"
      ]
     },
     "execution_count": 28,
     "metadata": {},
     "output_type": "execute_result"
    }
   ],
   "source": [
    "len(com[0][0]) # 32 pixels in one image\n",
    "len(com[0]) # 1000"
   ]
  },
  {
   "cell_type": "markdown",
   "id": "knowing-departure",
   "metadata": {},
   "source": [
    "## Results\n",
    "The input image was of 784 whereas compressed rep is of 32\n",
    "\n",
    "it is 24 times smaller than the original image\n",
    "\n",
    "Herein, complex input features enforces traditiona unsupervised learning algo\n",
    "k-means and knn\n",
    "\n",
    "if all features are included, it will confuse the algo\n",
    "idea is you should apply the auto-encoder, reduce input features and extract meaningful data first. \n",
    "\n",
    "Then apply unsupervised learning to compressed representation. so clustering algorithm works high performance and provide meaningful results\n",
    "\n",
    "### why autoencoder and decoder are not differently trained ?\n",
    "the input is the image and the output is the image\n",
    "so the middle layer of the network depends upon the whole layer\n",
    "and during training it is modified or updated!! \n",
    "\n",
    "if we would use both alone, then we will just get some random compressed output that is just not the good one as we dont have the final result to check the loss function on that.\n",
    "\n",
    "in the other codes we use - trained models on imagenet and remove the last layers of that network to generate the input.\n",
    "so the hidden layers are already trained and optimized with the label of that class\n",
    "so no need to train the model again\n",
    "but here again we are defining the model from scratch so have to train \n",
    "and for training we optimize the loss function and moreover we need the input and specific output for the model as that is SUPERVISED - once we are sure the model is learning perfectly - we just use that for predictions and compressing the images"
   ]
  },
  {
   "cell_type": "code",
   "execution_count": 35,
   "id": "coordinate-permit",
   "metadata": {},
   "outputs": [
    {
     "ename": "ModuleNotFoundError",
     "evalue": "No module named 'tensorflow.compat.v1.estimator.experimental.ops'",
     "output_type": "error",
     "traceback": [
      "\u001b[1;31m---------------------------------------------------------------------------\u001b[0m",
      "\u001b[1;31mModuleNotFoundError\u001b[0m                       Traceback (most recent call last)",
      "\u001b[1;32m<ipython-input-35-f9fd67e8f7ab>\u001b[0m in \u001b[0;36m<module>\u001b[1;34m\u001b[0m\n\u001b[1;32m----> 1\u001b[1;33m \u001b[1;32mfrom\u001b[0m \u001b[0mtensorflow\u001b[0m\u001b[1;33m.\u001b[0m\u001b[0mcompat\u001b[0m\u001b[1;33m.\u001b[0m\u001b[0mv1\u001b[0m\u001b[1;33m.\u001b[0m\u001b[0mestimator\u001b[0m\u001b[1;33m.\u001b[0m\u001b[0mexperimental\u001b[0m\u001b[1;33m.\u001b[0m\u001b[0mops\u001b[0m \u001b[1;32mimport\u001b[0m \u001b[0mclustering_ops\u001b[0m\u001b[1;33m\u001b[0m\u001b[1;33m\u001b[0m\u001b[0m\n\u001b[0m\u001b[0;32m      2\u001b[0m \u001b[1;33m\u001b[0m\u001b[0m\n\u001b[0;32m      3\u001b[0m unsupervised_model = tf.compat.v1.estimator.experimental.KMeans(\n\u001b[0;32m      4\u001b[0m     \u001b[1;36m10\u001b[0m\u001b[1;33m,\u001b[0m\u001b[1;33m\u001b[0m\u001b[1;33m\u001b[0m\u001b[0m\n\u001b[0;32m      5\u001b[0m     \u001b[0mdistance_metric\u001b[0m \u001b[1;33m=\u001b[0m \u001b[0mclustering_ops\u001b[0m\u001b[1;33m.\u001b[0m\u001b[0mSQUARED_EUCLIDEAN_DISTANCE\u001b[0m\u001b[1;33m,\u001b[0m\u001b[1;33m\u001b[0m\u001b[1;33m\u001b[0m\u001b[0m\n",
      "\u001b[1;31mModuleNotFoundError\u001b[0m: No module named 'tensorflow.compat.v1.estimator.experimental.ops'"
     ]
    }
   ],
   "source": [
    "from tensorflow.compat.v1.estimator.experimental.ops import clustering_ops\n",
    "\n",
    "unsupervised_model = tf.compat.v1.estimator.experimental.KMeans(\n",
    "    10,\n",
    "    distance_metric = clustering_ops.SQUARED_EUCLIDEAN_DISTANCE,\n",
    "    initial_clusters = tf.contrib.learn.KMeansClustering.RANDOM_INIT\n",
    "    )\n",
    "\n",
    "def train_input_fn():\n",
    "    data = tf.constant(com[0], tf.float32)\n",
    "    return (data, None)\n",
    "\n",
    "unsupervised_model.fit(input_fn=train_input_fn, steps=5000)\n",
    "clusters = unsupervised_model.predict(input_fn=train_input_fn)\n",
    "\n",
    "index = 0\n",
    "for i in clusters:\n",
    "    current_clusters = i['cluster_idx']\n",
    "    features = x_test[index]\n",
    "    index = index + 1"
   ]
  },
  {
   "cell_type": "code",
   "execution_count": null,
   "id": "hired-pride",
   "metadata": {},
   "outputs": [],
   "source": []
  }
 ],
 "metadata": {
  "kernelspec": {
   "display_name": "Python 3",
   "language": "python",
   "name": "python3"
  },
  "language_info": {
   "codemirror_mode": {
    "name": "ipython",
    "version": 3
   },
   "file_extension": ".py",
   "mimetype": "text/x-python",
   "name": "python",
   "nbconvert_exporter": "python",
   "pygments_lexer": "ipython3",
   "version": "3.7.9"
  }
 },
 "nbformat": 4,
 "nbformat_minor": 5
}
