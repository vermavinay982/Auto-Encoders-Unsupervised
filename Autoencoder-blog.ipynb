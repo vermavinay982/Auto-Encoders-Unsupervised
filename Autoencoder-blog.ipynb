{
 "cells": [
  {
   "cell_type": "code",
   "execution_count": 3,
   "id": "correct-landing",
   "metadata": {},
   "outputs": [],
   "source": [
    "from tensorflow.keras.models import Model\n",
    "from tensorflow.keras.layers import Dense, Activation\n",
    "from tensorflow.keras.datasets import mnist\n",
    "from tensorflow.keras.optimizers import Adam\n",
    "from tensorflow.keras.models import Sequential\n",
    "from tensorflow.keras import backend as K\n",
    "\n",
    "import numpy as np\n",
    "import matplotlib.pyplot as plt"
   ]
  },
  {
   "cell_type": "code",
   "execution_count": 1,
   "id": "professional-python",
   "metadata": {},
   "outputs": [],
   "source": [
    "def autoencode(model):   \n",
    "    decoded_imgs = model.predict(x_test)\n",
    "    get_3rd_layer_output = K.function([model.layers[0].input], [model.layers[1].output])\n",
    "    compressed = get_3rd_layer_output([x_test])\n",
    "    return compressed\n",
    "\n",
    "def test_restoration(model):\n",
    "    decoded_imgs = model.predict(x_test)\n",
    "    get_3rd_layer_output = K.function([model.layers[0].input], [model.layers[1].output])\n",
    "    \n",
    "    for i in range(2):\n",
    "        print(\"original: \")\n",
    "        plt.imshow(x_test[i].reshape(28, 28))\n",
    "        plt.gray()\n",
    "        plt.show()\n",
    "        \n",
    "        #-------------------\n",
    "        \n",
    "        print(\"reconstructed: \")\n",
    "        plt.imshow(decoded_imgs[i].reshape(28, 28))\n",
    "        plt.gray()\n",
    "        plt.show()\n",
    "        \n",
    "        #-------------------\n",
    "        \n",
    "        print(\"compressed: \")\n",
    "        current_compressed = get_3rd_layer_output([x_test[i:i+1]])[0][0]\n",
    "        plt.imshow(current_compressed.reshape(8, 4))\n",
    "        plt.gray()\n",
    "        plt.show()\n",
    "        #print(current_compressed)"
   ]
  },
  {
   "cell_type": "code",
   "execution_count": null,
   "id": "strong-staff",
   "metadata": {},
   "outputs": [],
   "source": []
  }
 ],
 "metadata": {
  "kernelspec": {
   "display_name": "Python 3",
   "language": "python",
   "name": "python3"
  },
  "language_info": {
   "codemirror_mode": {
    "name": "ipython",
    "version": 3
   },
   "file_extension": ".py",
   "mimetype": "text/x-python",
   "name": "python",
   "nbconvert_exporter": "python",
   "pygments_lexer": "ipython3",
   "version": "3.7.9"
  }
 },
 "nbformat": 4,
 "nbformat_minor": 5
}
